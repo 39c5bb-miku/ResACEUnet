{
 "cells": [
  {
   "cell_type": "code",
   "execution_count": null,
   "metadata": {},
   "outputs": [],
   "source": [
    "import os\n",
    "import time\n",
    "import matplotlib.pyplot as plt\n",
    "from obspy.io.segy.segy import _read_segy, SEGYBinaryFileHeader\n",
    "from obspy import read\n",
    "import numpy as np\n",
    "import pandas as pd\n",
    "from collections import Counter\n",
    "import random\n",
    "import gc\n",
    "gc.collect()\n",
    "\n",
    "os.environ[\"CUDA_VISIBLE_DEVICES\"] = \"0\"  "
   ]
  },
  {
   "cell_type": "code",
   "execution_count": null,
   "metadata": {},
   "outputs": [],
   "source": [
    "filename = r''\n",
    "parent_dir = os.path.dirname(os.path.abspath(filename))\n",
    "grandparent_dir = os.path.dirname(parent_dir)"
   ]
  },
  {
   "attachments": {},
   "cell_type": "markdown",
   "metadata": {},
   "source": [
    "# Read use _read_sgy()"
   ]
  },
  {
   "cell_type": "code",
   "execution_count": null,
   "metadata": {},
   "outputs": [],
   "source": [
    "# t0=time.time()\n",
    "# segy = _read_segy(filename)\n",
    "# print('--> data read in {:.1f} sec'.format(time.time()-t0))"
   ]
  },
  {
   "cell_type": "code",
   "execution_count": null,
   "metadata": {},
   "outputs": [],
   "source": [
    "# binary_file_header = segy.binary_file_header\n",
    "# print(\"\\nbinary_file_header:\\n\", binary_file_header)\n",
    "\n",
    "# textual_file_header = segy.textual_file_header\n",
    "# print(\"\\ntextual_file_header:\\n\", textual_file_header)\n",
    "\n",
    "# data_encoding=segy.data_encoding\n",
    "# print(\"\\ndata_encoding:\\n\",data_encoding)\n",
    "# endian=segy.endian\n",
    "# print(\"\\nendian:\\n\", endian)\n",
    "# file=segy.file\n",
    "# print(\"\\nfile:\\n\", file)\n",
    "# classinfo = segy.__class__\n",
    "# print(\"\\nclassinfo:\\n\", classinfo)\n",
    "# doc = segy.__doc__\n",
    "# print(\"\\ndoc:\\n\", doc)\n",
    "# ntraces=len(segy.traces)\n",
    "# print(\"\\nntraces:\\n\", ntraces)\n",
    "# size_M=segy.traces[0].data.nbytes/1024/1024.*ntraces\n",
    "# print(\"\\nsize:\\n\\t\", size_M,\"MB\")\n",
    "# print(\"\\t\", size_M/1024, \"GB\")"
   ]
  },
  {
   "attachments": {},
   "cell_type": "markdown",
   "metadata": {},
   "source": [
    "# Read use read()"
   ]
  },
  {
   "cell_type": "code",
   "execution_count": null,
   "metadata": {},
   "outputs": [],
   "source": [
    "t0=time.time()\n",
    "print('sgy use read:')\n",
    "stream = read(filename, format='SEGY',unpack_trace_headers=True)\n",
    "print('--> data read in {:.1f} min'.format((time.time()-t0)/60))"
   ]
  },
  {
   "cell_type": "code",
   "execution_count": null,
   "metadata": {},
   "outputs": [],
   "source": [
    "print(stream[0])"
   ]
  },
  {
   "cell_type": "code",
   "execution_count": null,
   "metadata": {},
   "outputs": [],
   "source": [
    "data = {}\n",
    "k = 100\n",
    "for i in range(20):\n",
    "    trace_header = stream[k * 10 + i].stats.segy.trace_header\n",
    "    for key, value in trace_header.items():\n",
    "        if isinstance(value, (int, float)) and value != 0:\n",
    "            if key not in data:\n",
    "                data[key] = []\n",
    "            data[key].append(value)\n",
    "df = pd.DataFrame(data)\n",
    "df = df.transpose()\n",
    "df"
   ]
  },
  {
   "cell_type": "code",
   "execution_count": null,
   "metadata": {},
   "outputs": [],
   "source": [
    "il_name = 'for_3d_poststack_data_this_field_is_for_in_line_number'\n",
    "xl_name = 'for_3d_poststack_data_this_field_is_for_cross_line_number'\n",
    "il=[]\n",
    "xl=[]\n",
    "for i in range(len(stream)):\n",
    "    trace_i_header = stream[i].stats.segy.trace_header\n",
    "    il.append(trace_i_header[il_name])\n",
    "    xl.append(trace_i_header[xl_name])"
   ]
  },
  {
   "cell_type": "code",
   "execution_count": null,
   "metadata": {},
   "outputs": [],
   "source": [
    "inlines = np.unique(il)\n",
    "print(inlines)\n",
    "print(len(inlines))"
   ]
  },
  {
   "cell_type": "code",
   "execution_count": null,
   "metadata": {},
   "outputs": [],
   "source": [
    "xlines = np.unique(xl)\n",
    "print(xlines)\n",
    "print(len(xlines))"
   ]
  },
  {
   "attachments": {},
   "cell_type": "markdown",
   "metadata": {},
   "source": [
    "Check if the data is a cube shape"
   ]
  },
  {
   "cell_type": "code",
   "execution_count": null,
   "metadata": {},
   "outputs": [],
   "source": [
    "t0=time.time()\n",
    "counter = Counter(il)\n",
    "print('Count in {:.1f} sec'.format(time.time()-t0))\n",
    "print (sorted(counter.items()))"
   ]
  },
  {
   "cell_type": "code",
   "execution_count": null,
   "metadata": {},
   "outputs": [],
   "source": [
    "t0=time.time()\n",
    "counter = Counter(xl)\n",
    "print('Count in {:.1f} sec'.format(time.time()-t0))\n",
    "print (sorted(counter.items()))"
   ]
  },
  {
   "attachments": {},
   "cell_type": "markdown",
   "metadata": {},
   "source": [
    "# this is a cube shape dataset."
   ]
  },
  {
   "cell_type": "code",
   "execution_count": null,
   "metadata": {},
   "outputs": [],
   "source": [
    "del data,df,il,xl,counter\n",
    "gc.collect()\n",
    "seis_np = np.zeros((len(inlines),len(xlines),stream[0].stats.npts), dtype=np.float32)  # declare an empty array\n",
    "print(seis_np.shape)"
   ]
  },
  {
   "cell_type": "code",
   "execution_count": null,
   "metadata": {},
   "outputs": [],
   "source": [
    "t0=time.time()\n",
    "batch_size = 32\n",
    "for i in range(0, len(stream), batch_size): # fill in the empty 3D array based on trace il number and crossline number.\n",
    "    batch = stream[i:i + batch_size]\n",
    "    for trace in batch:\n",
    "        trace_il = trace.stats.segy.trace_header[il_name]\n",
    "        trace_xl = trace.stats.segy.trace_header[xl_name]\n",
    "        il_idx = int((trace_il - inlines[0]) / (inlines[1]-inlines[0]))\n",
    "        xl_idx = int((trace_xl - xlines[0]) / (xlines[1]-xlines[0]))\n",
    "        seis_np[il_idx][xl_idx] = trace.data # here 1001 is the initial inline number of the thebe dataset, will 851 is the initial crossline number\n",
    "print('--> data read in {:.1f} min'.format((time.time()-t0)/60))"
   ]
  },
  {
   "cell_type": "code",
   "execution_count": null,
   "metadata": {},
   "outputs": [],
   "source": [
    "vmax= np.max(np.abs(seis_np)) / 4\n",
    "plt.figure(figsize=(10,10))\n",
    "plt.imshow(seis_np[10,:,:].transpose(), \"seismic\", vmax=vmax, vmin=-vmax) "
   ]
  },
  {
   "cell_type": "code",
   "execution_count": null,
   "metadata": {},
   "outputs": [],
   "source": [
    "plt.figure(figsize=(10,10))\n",
    "plt.imshow(seis_np[:,200,:].transpose(), \"seismic\",vmax=vmax, vmin=-vmax)"
   ]
  },
  {
   "cell_type": "code",
   "execution_count": null,
   "metadata": {},
   "outputs": [],
   "source": [
    "t0=time.time()\n",
    "print('sgy save as npy:')\n",
    "file_name = os.path.basename(filename)\n",
    "new_file_name = os.path.splitext(file_name)[0] + '.npy'\n",
    "np.save(new_file_name,seis_np)\n",
    "print('--> data save in {:.1f} min'.format((time.time()-t0)/60))"
   ]
  }
 ],
 "metadata": {
  "kernelspec": {
   "display_name": "Python 3",
   "language": "python",
   "name": "python3"
  },
  "language_info": {
   "codemirror_mode": {
    "name": "ipython",
    "version": 3
   },
   "file_extension": ".py",
   "mimetype": "text/x-python",
   "name": "python",
   "nbconvert_exporter": "python",
   "pygments_lexer": "ipython3",
   "version": "3.10.13"
  }
 },
 "nbformat": 4,
 "nbformat_minor": 2
}
